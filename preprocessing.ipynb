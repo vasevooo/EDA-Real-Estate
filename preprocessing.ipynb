{
 "cells": [
  {
   "cell_type": "code",
   "execution_count": 14,
   "metadata": {},
   "outputs": [
    {
     "ename": "ModuleNotFoundError",
     "evalue": "No module named 'currency_converter'",
     "output_type": "error",
     "traceback": [
      "\u001b[0;31m---------------------------------------------------------------------------\u001b[0m",
      "\u001b[0;31mModuleNotFoundError\u001b[0m                       Traceback (most recent call last)",
      "Cell \u001b[0;32mIn[14], line 6\u001b[0m\n\u001b[1;32m      3\u001b[0m \u001b[38;5;28;01mimport\u001b[39;00m \u001b[38;5;21;01mre\u001b[39;00m\n\u001b[1;32m      4\u001b[0m \u001b[38;5;66;03m# from pandas_profiling import ProfileReport\u001b[39;00m\n\u001b[1;32m      5\u001b[0m \u001b[38;5;66;03m# !pip install CurrencyConverter\u001b[39;00m\n\u001b[0;32m----> 6\u001b[0m \u001b[38;5;28;01mfrom\u001b[39;00m \u001b[38;5;21;01mcurrency_converter\u001b[39;00m \u001b[38;5;28;01mimport\u001b[39;00m CurrencyConverter\n\u001b[1;32m      8\u001b[0m \u001b[38;5;28;01mimport\u001b[39;00m \u001b[38;5;21;01mseaborn\u001b[39;00m \u001b[38;5;28;01mas\u001b[39;00m \u001b[38;5;21;01msns\u001b[39;00m  \n\u001b[1;32m      9\u001b[0m \u001b[38;5;28;01mimport\u001b[39;00m \u001b[38;5;21;01mmatplotlib\u001b[39;00m\u001b[38;5;21;01m.\u001b[39;00m\u001b[38;5;21;01mpyplot\u001b[39;00m \u001b[38;5;28;01mas\u001b[39;00m \u001b[38;5;21;01mplt\u001b[39;00m\n",
      "\u001b[0;31mModuleNotFoundError\u001b[0m: No module named 'currency_converter'"
     ]
    }
   ],
   "source": [
    "import pandas as pd \n",
    "import numpy as np \n",
    "import re\n",
    "# from pandas_profiling import ProfileReport\n",
    "# !pip install CurrencyConverter\n",
    "from currency_converter import CurrencyConverter\n",
    "\n",
    "import seaborn as sns  \n",
    "import matplotlib.pyplot as plt\n",
    "\n",
    "# plt.rcParams['figure.dpi'] = 150\n",
    "# plt.style.use('seaborn-deep')\n",
    "# pd.set_option('display.max_columns', None)"
   ]
  },
  {
   "cell_type": "code",
   "execution_count": null,
   "metadata": {},
   "outputs": [],
   "source": []
  },
  {
   "cell_type": "code",
   "execution_count": 16,
   "metadata": {},
   "outputs": [
    {
     "data": {
      "text/html": [
       "<div>\n",
       "<style scoped>\n",
       "    .dataframe tbody tr th:only-of-type {\n",
       "        vertical-align: middle;\n",
       "    }\n",
       "\n",
       "    .dataframe tbody tr th {\n",
       "        vertical-align: top;\n",
       "    }\n",
       "\n",
       "    .dataframe thead th {\n",
       "        text-align: right;\n",
       "    }\n",
       "</style>\n",
       "<table border=\"1\" class=\"dataframe\">\n",
       "  <thead>\n",
       "    <tr style=\"text-align: right;\">\n",
       "      <th></th>\n",
       "      <th>ID  объявления</th>\n",
       "      <th>Количество комнат</th>\n",
       "      <th>Тип</th>\n",
       "      <th>Метро</th>\n",
       "      <th>Адрес</th>\n",
       "      <th>Площадь, м2</th>\n",
       "      <th>Дом</th>\n",
       "      <th>Парковка</th>\n",
       "      <th>Цена</th>\n",
       "      <th>Телефоны</th>\n",
       "      <th>...</th>\n",
       "      <th>Окна</th>\n",
       "      <th>Санузел</th>\n",
       "      <th>Можно с детьми/животными</th>\n",
       "      <th>Дополнительно</th>\n",
       "      <th>Название ЖК</th>\n",
       "      <th>Серия дома</th>\n",
       "      <th>Высота потолков, м</th>\n",
       "      <th>Лифт</th>\n",
       "      <th>Мусоропровод</th>\n",
       "      <th>Ссылка на объявление</th>\n",
       "    </tr>\n",
       "  </thead>\n",
       "  <tbody>\n",
       "    <tr>\n",
       "      <th>0</th>\n",
       "      <td>271271157</td>\n",
       "      <td>4</td>\n",
       "      <td>Квартира</td>\n",
       "      <td>м. Смоленская (9 мин пешком)</td>\n",
       "      <td>Москва, улица Новый Арбат, 27</td>\n",
       "      <td>200.0/20.0</td>\n",
       "      <td>5/16, Монолитный</td>\n",
       "      <td>подземная</td>\n",
       "      <td>500000.0 руб./ За месяц, Залог - 500000 руб., ...</td>\n",
       "      <td>+79166369231</td>\n",
       "      <td>...</td>\n",
       "      <td>NaN</td>\n",
       "      <td>NaN</td>\n",
       "      <td>Можно с детьми, Можно с животными</td>\n",
       "      <td>Мебель в комнатах, Мебель на кухне, Ванна, Душ...</td>\n",
       "      <td>Новый Арбат, 2010</td>\n",
       "      <td>NaN</td>\n",
       "      <td>3.0</td>\n",
       "      <td>Пасс (4), Груз (1)</td>\n",
       "      <td>Да</td>\n",
       "      <td>https://www.cian.ru/rent/flat/271271157</td>\n",
       "    </tr>\n",
       "    <tr>\n",
       "      <th>1</th>\n",
       "      <td>271634126</td>\n",
       "      <td>4</td>\n",
       "      <td>Квартира</td>\n",
       "      <td>м. Смоленская (8 мин пешком)</td>\n",
       "      <td>Москва, улица Новый Арбат, 27</td>\n",
       "      <td>198.0/95.0/18.0</td>\n",
       "      <td>5/16, Монолитно-кирпичный</td>\n",
       "      <td>подземная</td>\n",
       "      <td>500000.0 руб./ За месяц, Залог - 500000 руб., ...</td>\n",
       "      <td>+79850608590</td>\n",
       "      <td>...</td>\n",
       "      <td>На улицу и двор</td>\n",
       "      <td>Совмещенный (2), Раздельный (1)</td>\n",
       "      <td>Можно с детьми</td>\n",
       "      <td>Мебель в комнатах, Мебель на кухне, Ванна, Душ...</td>\n",
       "      <td>Новый Арбат</td>\n",
       "      <td>NaN</td>\n",
       "      <td>3.5</td>\n",
       "      <td>Пасс (1), Груз (1)</td>\n",
       "      <td>Нет</td>\n",
       "      <td>https://www.cian.ru/rent/flat/271634126</td>\n",
       "    </tr>\n",
       "    <tr>\n",
       "      <th>2</th>\n",
       "      <td>271173086</td>\n",
       "      <td>4, Оба варианта</td>\n",
       "      <td>Квартира</td>\n",
       "      <td>м. Смоленская (7 мин пешком)</td>\n",
       "      <td>Москва, улица Новый Арбат, 27</td>\n",
       "      <td>200.0/116.0/4.0</td>\n",
       "      <td>5/16</td>\n",
       "      <td>подземная</td>\n",
       "      <td>500000.0 руб./ За месяц, Залог - 500000 руб., ...</td>\n",
       "      <td>+79672086536, +79099269384</td>\n",
       "      <td>...</td>\n",
       "      <td>На улицу и двор</td>\n",
       "      <td>Совмещенный (3)</td>\n",
       "      <td>Можно с детьми</td>\n",
       "      <td>Мебель в комнатах, Мебель на кухне, Ванна, Душ...</td>\n",
       "      <td>Новый Арбат</td>\n",
       "      <td>NaN</td>\n",
       "      <td>3.2</td>\n",
       "      <td>Пасс (1)</td>\n",
       "      <td>NaN</td>\n",
       "      <td>https://www.cian.ru/rent/flat/271173086</td>\n",
       "    </tr>\n",
       "    <tr>\n",
       "      <th>3</th>\n",
       "      <td>272197456</td>\n",
       "      <td>4, Оба варианта</td>\n",
       "      <td>Квартира</td>\n",
       "      <td>м. Смоленская (3 мин пешком)</td>\n",
       "      <td>Москва, переулок Плотников, 21С1</td>\n",
       "      <td>170.0/95.0/17.0</td>\n",
       "      <td>5/6</td>\n",
       "      <td>подземная</td>\n",
       "      <td>400000.0 руб./ За месяц, Залог - 400000 руб., ...</td>\n",
       "      <td>+79660342340, +79099269384</td>\n",
       "      <td>...</td>\n",
       "      <td>На улицу и двор</td>\n",
       "      <td>Совмещенный (3)</td>\n",
       "      <td>Можно с животными</td>\n",
       "      <td>Мебель в комнатах, Мебель на кухне, Ванна, Душ...</td>\n",
       "      <td>NaN</td>\n",
       "      <td>NaN</td>\n",
       "      <td>3.2</td>\n",
       "      <td>Пасс (1)</td>\n",
       "      <td>NaN</td>\n",
       "      <td>https://www.cian.ru/rent/flat/272197456</td>\n",
       "    </tr>\n",
       "    <tr>\n",
       "      <th>4</th>\n",
       "      <td>273614615</td>\n",
       "      <td>2</td>\n",
       "      <td>Квартира</td>\n",
       "      <td>м. Арбатская (7 мин пешком)</td>\n",
       "      <td>Москва, улица Новый Арбат, 15</td>\n",
       "      <td>58.0/38.0/5.0</td>\n",
       "      <td>12/26, Панельный</td>\n",
       "      <td>NaN</td>\n",
       "      <td>225000.0 руб./ За месяц, Залог - 225000 руб., ...</td>\n",
       "      <td>+79852432860</td>\n",
       "      <td>...</td>\n",
       "      <td>На улицу и двор</td>\n",
       "      <td>Совмещенный (2)</td>\n",
       "      <td>NaN</td>\n",
       "      <td>Мебель в комнатах, Мебель на кухне, Ванна, Душ...</td>\n",
       "      <td>The Book</td>\n",
       "      <td>NaN</td>\n",
       "      <td>3.9</td>\n",
       "      <td>Пасс (1), Груз (1)</td>\n",
       "      <td>Да</td>\n",
       "      <td>https://www.cian.ru/rent/flat/273614615</td>\n",
       "    </tr>\n",
       "  </tbody>\n",
       "</table>\n",
       "<p>5 rows × 24 columns</p>\n",
       "</div>"
      ],
      "text/plain": [
       "   ID  объявления Количество комнат       Тип                         Метро  \\\n",
       "0       271271157                 4  Квартира  м. Смоленская (9 мин пешком)   \n",
       "1       271634126                 4  Квартира  м. Смоленская (8 мин пешком)   \n",
       "2       271173086   4, Оба варианта  Квартира  м. Смоленская (7 мин пешком)   \n",
       "3       272197456   4, Оба варианта  Квартира  м. Смоленская (3 мин пешком)   \n",
       "4       273614615                 2  Квартира   м. Арбатская (7 мин пешком)   \n",
       "\n",
       "                              Адрес      Площадь, м2  \\\n",
       "0     Москва, улица Новый Арбат, 27       200.0/20.0   \n",
       "1     Москва, улица Новый Арбат, 27  198.0/95.0/18.0   \n",
       "2     Москва, улица Новый Арбат, 27  200.0/116.0/4.0   \n",
       "3  Москва, переулок Плотников, 21С1  170.0/95.0/17.0   \n",
       "4     Москва, улица Новый Арбат, 15    58.0/38.0/5.0   \n",
       "\n",
       "                         Дом   Парковка  \\\n",
       "0           5/16, Монолитный  подземная   \n",
       "1  5/16, Монолитно-кирпичный  подземная   \n",
       "2                       5/16  подземная   \n",
       "3                        5/6  подземная   \n",
       "4           12/26, Панельный        NaN   \n",
       "\n",
       "                                                Цена  \\\n",
       "0  500000.0 руб./ За месяц, Залог - 500000 руб., ...   \n",
       "1  500000.0 руб./ За месяц, Залог - 500000 руб., ...   \n",
       "2  500000.0 руб./ За месяц, Залог - 500000 руб., ...   \n",
       "3  400000.0 руб./ За месяц, Залог - 400000 руб., ...   \n",
       "4  225000.0 руб./ За месяц, Залог - 225000 руб., ...   \n",
       "\n",
       "                     Телефоны  ...             Окна  \\\n",
       "0                +79166369231  ...              NaN   \n",
       "1                +79850608590  ...  На улицу и двор   \n",
       "2  +79672086536, +79099269384  ...  На улицу и двор   \n",
       "3  +79660342340, +79099269384  ...  На улицу и двор   \n",
       "4                +79852432860  ...  На улицу и двор   \n",
       "\n",
       "                           Санузел           Можно с детьми/животными  \\\n",
       "0                              NaN  Можно с детьми, Можно с животными   \n",
       "1  Совмещенный (2), Раздельный (1)                     Можно с детьми   \n",
       "2                  Совмещенный (3)                     Можно с детьми   \n",
       "3                  Совмещенный (3)                  Можно с животными   \n",
       "4                  Совмещенный (2)                                NaN   \n",
       "\n",
       "                                       Дополнительно        Название ЖК  \\\n",
       "0  Мебель в комнатах, Мебель на кухне, Ванна, Душ...  Новый Арбат, 2010   \n",
       "1  Мебель в комнатах, Мебель на кухне, Ванна, Душ...        Новый Арбат   \n",
       "2  Мебель в комнатах, Мебель на кухне, Ванна, Душ...        Новый Арбат   \n",
       "3  Мебель в комнатах, Мебель на кухне, Ванна, Душ...                NaN   \n",
       "4  Мебель в комнатах, Мебель на кухне, Ванна, Душ...           The Book   \n",
       "\n",
       "  Серия дома Высота потолков, м                Лифт Мусоропровод  \\\n",
       "0        NaN                3.0  Пасс (4), Груз (1)           Да   \n",
       "1        NaN                3.5  Пасс (1), Груз (1)          Нет   \n",
       "2        NaN                3.2            Пасс (1)          NaN   \n",
       "3        NaN                3.2            Пасс (1)          NaN   \n",
       "4        NaN                3.9  Пасс (1), Груз (1)           Да   \n",
       "\n",
       "                      Ссылка на объявление  \n",
       "0  https://www.cian.ru/rent/flat/271271157  \n",
       "1  https://www.cian.ru/rent/flat/271634126  \n",
       "2  https://www.cian.ru/rent/flat/271173086  \n",
       "3  https://www.cian.ru/rent/flat/272197456  \n",
       "4  https://www.cian.ru/rent/flat/273614615  \n",
       "\n",
       "[5 rows x 24 columns]"
      ]
     },
     "execution_count": 16,
     "metadata": {},
     "output_type": "execute_result"
    }
   ],
   "source": [
    "path = ('../EDA-Real-Estate/_data.csv')\n",
    "df = pd.read_csv(path, index_col= 0)\n",
    "df.head(5)"
   ]
  },
  {
   "cell_type": "markdown",
   "metadata": {},
   "source": [
    "**В связи с тем, что колонка \"Тип\" представлена единственным значением - \"квартира\", удаляем данный столбец как неинформативный для целей исследования**"
   ]
  },
  {
   "cell_type": "code",
   "execution_count": 17,
   "metadata": {},
   "outputs": [],
   "source": [
    "df.drop(columns=['Тип'],axis=1,inplace=True)"
   ]
  },
  {
   "cell_type": "markdown",
   "metadata": {},
   "source": [
    "**Аналогично поступаем с колонками \"Телефоны\",\"Описание\",\"Площадь комнат\",\"Окна\",\n",
    "\"Дополнительно\",\"Ссылка на объявление\"**"
   ]
  },
  {
   "cell_type": "code",
   "execution_count": 18,
   "metadata": {},
   "outputs": [],
   "source": [
    "df.drop(columns=['Телефоны','Описание','Площадь комнат, м2','Окна','Дополнительно','Ссылка на объявление'],axis=1,inplace=True)"
   ]
  },
  {
   "cell_type": "markdown",
   "metadata": {},
   "source": [
    "**В связи с большим количество отсутствующих данных удалим столбцы \"Название ЖК\" и \"Серия дома\"**"
   ]
  },
  {
   "cell_type": "markdown",
   "metadata": {},
   "source": [
    "***Missing values***"
   ]
  },
  {
   "attachments": {
    "34112bb8-a02e-48c2-a0e8-a4a64e9c49e3.png": {
     "image/png": "[encoded data removed]"
    }
   },
   "cell_type": "markdown",
   "metadata": {},
   "source": [
    "![image.png](attachment:34112bb8-a02e-48c2-a0e8-a4a64e9c49e3.png)"
   ]
  },
  {
   "cell_type": "code",
   "execution_count": 19,
   "metadata": {},
   "outputs": [],
   "source": [
    "df.drop(columns=['Серия дома','Название ЖК',],axis=1,inplace=True)"
   ]
  },
  {
   "cell_type": "markdown",
   "metadata": {},
   "source": [
    "**Перечень колонок, оставшихся в dataset**"
   ]
  },
  {
   "cell_type": "code",
   "execution_count": 20,
   "metadata": {},
   "outputs": [
    {
     "data": {
      "text/plain": [
       "Index(['ID  объявления', 'Количество комнат', 'Метро', 'Адрес', 'Площадь, м2',\n",
       "       'Дом', 'Парковка', 'Цена', 'Ремонт', 'Балкон', 'Санузел',\n",
       "       'Можно с детьми/животными', 'Высота потолков, м', 'Лифт',\n",
       "       'Мусоропровод'],\n",
       "      dtype='object')"
      ]
     },
     "execution_count": 20,
     "metadata": {},
     "output_type": "execute_result"
    }
   ],
   "source": [
    "df.columns"
   ]
  },
  {
   "cell_type": "markdown",
   "metadata": {},
   "source": [
    "**Преобразуем колонку \"Парковка\" в бинарный вид, присвоив всем пустным значениям 0, всем остальным - 1**"
   ]
  },
  {
   "attachments": {
    "7145fdd2-5c53-4f38-8218-ba17d15490ed.png": {
     "image/png": "[encoded data removed]"
    }
   },
   "cell_type": "markdown",
   "metadata": {},
   "source": [
    "![image.png](attachment:7145fdd2-5c53-4f38-8218-ba17d15490ed.png)"
   ]
  },
  {
   "cell_type": "code",
   "execution_count": 21,
   "metadata": {},
   "outputs": [],
   "source": [
    "df['Парковка']=df['Парковка'].fillna(0)"
   ]
  },
  {
   "cell_type": "code",
   "execution_count": 22,
   "metadata": {},
   "outputs": [],
   "source": [
    "df.loc[df['Парковка']!=0,'Парковка']=1"
   ]
  },
  {
   "cell_type": "markdown",
   "metadata": {},
   "source": [
    "## Обработка \"площадь, м2\"\n",
    "решили оставить только общую площадь, а также проверить на аутлаеры. Для того, чтобы проверить выбросы, необходимо посчитать цену за квадратный метр, чтобы была возможность сравнить относительную цену квартиры. "
   ]
  },
  {
   "cell_type": "code",
   "execution_count": 24,
   "metadata": {},
   "outputs": [
    {
     "data": {
      "text/plain": [
       "count    23368.000000\n",
       "mean        62.819425\n",
       "std         46.699425\n",
       "min          7.000000\n",
       "25%         38.000000\n",
       "50%         48.000000\n",
       "75%         70.000000\n",
       "max        811.000000\n",
       "Name: total_area, dtype: float64"
      ]
     },
     "execution_count": 24,
     "metadata": {},
     "output_type": "execute_result"
    }
   ],
   "source": [
    "df['total_area'] = df['Площадь, м2'].apply(lambda s: float(s.split('/')[0]))\n",
    "#df[(df['total_area'] > 500)][['Количество комнат', 'price_per_month', 'Площадь, м2', 'total_area']]\n",
    "df['total_area'].describe()\n"
   ]
  },
  {
   "cell_type": "markdown",
   "metadata": {},
   "source": [
    "## Обработка \"Цены\"\n",
    "Решили сохранить всю информацию из данной колонки, разбить на 5ть новых - цена в мес, залог, комунальные услуги (включены/нет), срок аренды (долгосрочная/краткосрочная) и предоплата (кол-во месяцев)"
   ]
  },
  {
   "cell_type": "code",
   "execution_count": 25,
   "metadata": {},
   "outputs": [
    {
     "ename": "ModuleNotFoundError",
     "evalue": "No module named 'forex_python'",
     "output_type": "error",
     "traceback": [
      "\u001b[0;31m---------------------------------------------------------------------------\u001b[0m",
      "\u001b[0;31mModuleNotFoundError\u001b[0m                       Traceback (most recent call last)",
      "Cell \u001b[0;32mIn[25], line 1\u001b[0m\n\u001b[0;32m----> 1\u001b[0m \u001b[38;5;28;01mfrom\u001b[39;00m \u001b[38;5;21;01mforex_python\u001b[39;00m\u001b[38;5;21;01m.\u001b[39;00m\u001b[38;5;21;01mconverter\u001b[39;00m \u001b[38;5;28;01mimport\u001b[39;00m CurrencyRates, RatesNotAvailableError\n\u001b[1;32m      2\u001b[0m cr \u001b[38;5;241m=\u001b[39m CurrencyRates()\n\u001b[1;32m      4\u001b[0m usd_rub_rate \u001b[38;5;241m=\u001b[39m \u001b[38;5;241m80\u001b[39m \u001b[38;5;66;03m## API не работает, поэтому поставил вручную примерный курс. Если API заработает, то курс подтянется, если нет то будет так\u001b[39;00m\n",
      "\u001b[0;31mModuleNotFoundError\u001b[0m: No module named 'forex_python'"
     ]
    }
   ],
   "source": [
    "from forex_python.converter import CurrencyRates, RatesNotAvailableError\n",
    "cr = CurrencyRates()\n",
    "\n",
    "usd_rub_rate = 80 ## API не работает, поэтому поставил вручную примерный курс. Если API заработает, то курс подтянется, если нет то будет так\n",
    "eur_rub_rate = 90\n",
    "\n",
    "# function to extract price per month\n",
    "def extract_price(s):\n",
    "    match = re.search(r'(\\d+\\.\\d+)\\s*руб\\.', s)\n",
    "    match_doll = re.search(r'(\\d+\\.\\d+)\\s*\\$', s)\n",
    "    match_eur = re.search(r'(\\d+\\.\\d+)\\s*\\€', s)\n",
    "    if match:\n",
    "        return float(match.group(1))\n",
    "    elif match_doll: \n",
    "        usd_price = float(match_doll.group(1))\n",
    "        try: \n",
    "            return cr.convert('USD', 'RUB', usd_price)\n",
    "        except RatesNotAvailableError: \n",
    "            return usd_price * usd_rub_rate\n",
    "    elif match_eur: \n",
    "        eur_price = float(match_eur.group(1))\n",
    "        try: \n",
    "            return cr.convert('EUR', 'RUB', eur_price)\n",
    "        except RatesNotAvailableError: \n",
    "            return eur_price * eur_rub_rate\n",
    "\n",
    "\n",
    "# function to extract deposit\n",
    "def extract_deposit(s):\n",
    "    match = re.search(r'Залог\\s*-\\s*(\\d+.\\d+)\\s*руб.', s)\n",
    "    match_doll = re.search(r'Залог\\s*-\\s*(\\d+.\\d+)\\s*\\$', s)\n",
    "    match_eur = re.search(r'Залог\\s*-\\s*(\\d+.\\d+)\\s*\\€.', s)\n",
    "    \n",
    "    if match:\n",
    "        return float(match.group(1))\n",
    "    elif match_doll: \n",
    "        usd_price = float(match_doll.group(1))\n",
    "        try: \n",
    "            return cr.convert('USD', 'RUB', usd_price)\n",
    "        except RatesNotAvailableError: \n",
    "            return usd_price * usd_rub_rate\n",
    "    elif match_eur: \n",
    "        eur_price = float(match_eur.group(1))\n",
    "        try: \n",
    "            return cr.convert('EUR', 'RUB', eur_price)\n",
    "        except RatesNotAvailableError: \n",
    "            return eur_price * eur_rub_rate\n",
    "    else: \n",
    "        return 0\n",
    "\n",
    "# function to extract utilities\n",
    "def extract_utilities(s):\n",
    "    if 'Коммунальные услуги включены' in s:\n",
    "        return 1\n",
    "    else:\n",
    "        return 0\n",
    "\n",
    "# function to extract rental term\n",
    "def extract_term(s):\n",
    "    if 'Срок аренды - Длительный' in s:\n",
    "        return 1\n",
    "    else:\n",
    "        return 0\n",
    "\n",
    "# function to extract advance payment\n",
    "def extract_advance(s):\n",
    "    match = re.search(r'Предоплата\\s+(\\d+)\\s*мес', s)\n",
    "    if match:\n",
    "        return int(match.group(1))\n",
    "    else:\n",
    "        return 0"
   ]
  },
  {
   "cell_type": "code",
   "execution_count": 26,
   "metadata": {},
   "outputs": [
    {
     "ename": "NameError",
     "evalue": "name 'extract_price' is not defined",
     "output_type": "error",
     "traceback": [
      "\u001b[0;31m---------------------------------------------------------------------------\u001b[0m",
      "\u001b[0;31mNameError\u001b[0m                                 Traceback (most recent call last)",
      "Cell \u001b[0;32mIn[26], line 2\u001b[0m\n\u001b[1;32m      1\u001b[0m \u001b[38;5;66;03m# apply the functions to create new columns\u001b[39;00m\n\u001b[0;32m----> 2\u001b[0m df[\u001b[38;5;124m'\u001b[39m\u001b[38;5;124mprice_per_month\u001b[39m\u001b[38;5;124m'\u001b[39m] \u001b[38;5;241m=\u001b[39m df[\u001b[38;5;124m'\u001b[39m\u001b[38;5;124mЦена\u001b[39m\u001b[38;5;124m'\u001b[39m]\u001b[38;5;241m.\u001b[39mapply(\u001b[43mextract_price\u001b[49m)\n\u001b[1;32m      3\u001b[0m df[\u001b[38;5;124m'\u001b[39m\u001b[38;5;124mdeposit\u001b[39m\u001b[38;5;124m'\u001b[39m] \u001b[38;5;241m=\u001b[39m df[\u001b[38;5;124m'\u001b[39m\u001b[38;5;124mЦена\u001b[39m\u001b[38;5;124m'\u001b[39m]\u001b[38;5;241m.\u001b[39mapply(extract_deposit)\n\u001b[1;32m      4\u001b[0m df[\u001b[38;5;124m'\u001b[39m\u001b[38;5;124mutilities\u001b[39m\u001b[38;5;124m'\u001b[39m] \u001b[38;5;241m=\u001b[39m df[\u001b[38;5;124m'\u001b[39m\u001b[38;5;124mЦена\u001b[39m\u001b[38;5;124m'\u001b[39m]\u001b[38;5;241m.\u001b[39mapply(extract_utilities)\n",
      "\u001b[0;31mNameError\u001b[0m: name 'extract_price' is not defined"
     ]
    }
   ],
   "source": [
    "# apply the functions to create new columns\n",
    "df['price_per_month'] = df['Цена'].apply(extract_price)\n",
    "df['deposit'] = df['Цена'].apply(extract_deposit)\n",
    "df['utilities'] = df['Цена'].apply(extract_utilities)\n",
    "df['rental_term'] = df['Цена'].apply(extract_term)\n",
    "df['advance_payment'] = df['Цена'].apply(extract_advance)"
   ]
  },
  {
   "cell_type": "code",
   "execution_count": 27,
   "metadata": {},
   "outputs": [
    {
     "ename": "KeyError",
     "evalue": "\"['price_per_month', 'deposit', 'utilities', 'rental_term', 'advance_payment'] not in index\"",
     "output_type": "error",
     "traceback": [
      "\u001b[0;31m---------------------------------------------------------------------------\u001b[0m",
      "\u001b[0;31mKeyError\u001b[0m                                  Traceback (most recent call last)",
      "Cell \u001b[0;32mIn[27], line 3\u001b[0m\n\u001b[1;32m      1\u001b[0m \u001b[38;5;66;03m# проверить, что функции отработали без NaN\u001b[39;00m\n\u001b[0;32m----> 3\u001b[0m \u001b[43mdf\u001b[49m\u001b[43m[\u001b[49m\u001b[43m[\u001b[49m\u001b[38;5;124;43m'\u001b[39;49m\u001b[38;5;124;43mprice_per_month\u001b[39;49m\u001b[38;5;124;43m'\u001b[39;49m\u001b[43m,\u001b[49m\u001b[38;5;124;43m'\u001b[39;49m\u001b[38;5;124;43mdeposit\u001b[39;49m\u001b[38;5;124;43m'\u001b[39;49m\u001b[43m,\u001b[49m\u001b[38;5;124;43m'\u001b[39;49m\u001b[38;5;124;43mutilities\u001b[39;49m\u001b[38;5;124;43m'\u001b[39;49m\u001b[43m,\u001b[49m\u001b[38;5;124;43m'\u001b[39;49m\u001b[38;5;124;43mrental_term\u001b[39;49m\u001b[38;5;124;43m'\u001b[39;49m\u001b[43m,\u001b[49m\u001b[38;5;124;43m'\u001b[39;49m\u001b[38;5;124;43madvance_payment\u001b[39;49m\u001b[38;5;124;43m'\u001b[39;49m\u001b[43m,\u001b[49m\u001b[43m \u001b[49m\u001b[38;5;124;43m'\u001b[39;49m\u001b[38;5;124;43mtotal_area\u001b[39;49m\u001b[38;5;124;43m'\u001b[39;49m\u001b[43m]\u001b[49m\u001b[43m]\u001b[49m\u001b[38;5;241m.\u001b[39misna()\u001b[38;5;241m.\u001b[39msum()\n",
      "File \u001b[0;32m~/anaconda3/lib/python3.10/site-packages/pandas/core/frame.py:3813\u001b[0m, in \u001b[0;36mDataFrame.__getitem__\u001b[0;34m(self, key)\u001b[0m\n\u001b[1;32m   3811\u001b[0m     \u001b[38;5;28;01mif\u001b[39;00m is_iterator(key):\n\u001b[1;32m   3812\u001b[0m         key \u001b[38;5;241m=\u001b[39m \u001b[38;5;28mlist\u001b[39m(key)\n\u001b[0;32m-> 3813\u001b[0m     indexer \u001b[38;5;241m=\u001b[39m \u001b[38;5;28;43mself\u001b[39;49m\u001b[38;5;241;43m.\u001b[39;49m\u001b[43mcolumns\u001b[49m\u001b[38;5;241;43m.\u001b[39;49m\u001b[43m_get_indexer_strict\u001b[49m\u001b[43m(\u001b[49m\u001b[43mkey\u001b[49m\u001b[43m,\u001b[49m\u001b[43m \u001b[49m\u001b[38;5;124;43m\"\u001b[39;49m\u001b[38;5;124;43mcolumns\u001b[39;49m\u001b[38;5;124;43m\"\u001b[39;49m\u001b[43m)\u001b[49m[\u001b[38;5;241m1\u001b[39m]\n\u001b[1;32m   3815\u001b[0m \u001b[38;5;66;03m# take() does not accept boolean indexers\u001b[39;00m\n\u001b[1;32m   3816\u001b[0m \u001b[38;5;28;01mif\u001b[39;00m \u001b[38;5;28mgetattr\u001b[39m(indexer, \u001b[38;5;124m\"\u001b[39m\u001b[38;5;124mdtype\u001b[39m\u001b[38;5;124m\"\u001b[39m, \u001b[38;5;28;01mNone\u001b[39;00m) \u001b[38;5;241m==\u001b[39m \u001b[38;5;28mbool\u001b[39m:\n",
      "File \u001b[0;32m~/anaconda3/lib/python3.10/site-packages/pandas/core/indexes/base.py:6070\u001b[0m, in \u001b[0;36mIndex._get_indexer_strict\u001b[0;34m(self, key, axis_name)\u001b[0m\n\u001b[1;32m   6067\u001b[0m \u001b[38;5;28;01melse\u001b[39;00m:\n\u001b[1;32m   6068\u001b[0m     keyarr, indexer, new_indexer \u001b[38;5;241m=\u001b[39m \u001b[38;5;28mself\u001b[39m\u001b[38;5;241m.\u001b[39m_reindex_non_unique(keyarr)\n\u001b[0;32m-> 6070\u001b[0m \u001b[38;5;28;43mself\u001b[39;49m\u001b[38;5;241;43m.\u001b[39;49m\u001b[43m_raise_if_missing\u001b[49m\u001b[43m(\u001b[49m\u001b[43mkeyarr\u001b[49m\u001b[43m,\u001b[49m\u001b[43m \u001b[49m\u001b[43mindexer\u001b[49m\u001b[43m,\u001b[49m\u001b[43m \u001b[49m\u001b[43maxis_name\u001b[49m\u001b[43m)\u001b[49m\n\u001b[1;32m   6072\u001b[0m keyarr \u001b[38;5;241m=\u001b[39m \u001b[38;5;28mself\u001b[39m\u001b[38;5;241m.\u001b[39mtake(indexer)\n\u001b[1;32m   6073\u001b[0m \u001b[38;5;28;01mif\u001b[39;00m \u001b[38;5;28misinstance\u001b[39m(key, Index):\n\u001b[1;32m   6074\u001b[0m     \u001b[38;5;66;03m# GH 42790 - Preserve name from an Index\u001b[39;00m\n",
      "File \u001b[0;32m~/anaconda3/lib/python3.10/site-packages/pandas/core/indexes/base.py:6133\u001b[0m, in \u001b[0;36mIndex._raise_if_missing\u001b[0;34m(self, key, indexer, axis_name)\u001b[0m\n\u001b[1;32m   6130\u001b[0m     \u001b[38;5;28;01mraise\u001b[39;00m \u001b[38;5;167;01mKeyError\u001b[39;00m(\u001b[38;5;124mf\u001b[39m\u001b[38;5;124m\"\u001b[39m\u001b[38;5;124mNone of [\u001b[39m\u001b[38;5;132;01m{\u001b[39;00mkey\u001b[38;5;132;01m}\u001b[39;00m\u001b[38;5;124m] are in the [\u001b[39m\u001b[38;5;132;01m{\u001b[39;00maxis_name\u001b[38;5;132;01m}\u001b[39;00m\u001b[38;5;124m]\u001b[39m\u001b[38;5;124m\"\u001b[39m)\n\u001b[1;32m   6132\u001b[0m not_found \u001b[38;5;241m=\u001b[39m \u001b[38;5;28mlist\u001b[39m(ensure_index(key)[missing_mask\u001b[38;5;241m.\u001b[39mnonzero()[\u001b[38;5;241m0\u001b[39m]]\u001b[38;5;241m.\u001b[39munique())\n\u001b[0;32m-> 6133\u001b[0m \u001b[38;5;28;01mraise\u001b[39;00m \u001b[38;5;167;01mKeyError\u001b[39;00m(\u001b[38;5;124mf\u001b[39m\u001b[38;5;124m\"\u001b[39m\u001b[38;5;132;01m{\u001b[39;00mnot_found\u001b[38;5;132;01m}\u001b[39;00m\u001b[38;5;124m not in index\u001b[39m\u001b[38;5;124m\"\u001b[39m)\n",
      "\u001b[0;31mKeyError\u001b[0m: \"['price_per_month', 'deposit', 'utilities', 'rental_term', 'advance_payment'] not in index\""
     ]
    }
   ],
   "source": [
    "# проверить, что функции отработали без NaN\n",
    "\n",
    "df[['price_per_month','deposit','utilities','rental_term','advance_payment', 'total_area']].isna().sum()"
   ]
  },
  {
   "cell_type": "code",
   "execution_count": 28,
   "metadata": {},
   "outputs": [
    {
     "ename": "KeyError",
     "evalue": "'price_per_month'",
     "output_type": "error",
     "traceback": [
      "\u001b[0;31m---------------------------------------------------------------------------\u001b[0m",
      "\u001b[0;31mKeyError\u001b[0m                                  Traceback (most recent call last)",
      "File \u001b[0;32m~/anaconda3/lib/python3.10/site-packages/pandas/core/indexes/base.py:3802\u001b[0m, in \u001b[0;36mIndex.get_loc\u001b[0;34m(self, key, method, tolerance)\u001b[0m\n\u001b[1;32m   3801\u001b[0m \u001b[38;5;28;01mtry\u001b[39;00m:\n\u001b[0;32m-> 3802\u001b[0m     \u001b[38;5;28;01mreturn\u001b[39;00m \u001b[38;5;28;43mself\u001b[39;49m\u001b[38;5;241;43m.\u001b[39;49m\u001b[43m_engine\u001b[49m\u001b[38;5;241;43m.\u001b[39;49m\u001b[43mget_loc\u001b[49m\u001b[43m(\u001b[49m\u001b[43mcasted_key\u001b[49m\u001b[43m)\u001b[49m\n\u001b[1;32m   3803\u001b[0m \u001b[38;5;28;01mexcept\u001b[39;00m \u001b[38;5;167;01mKeyError\u001b[39;00m \u001b[38;5;28;01mas\u001b[39;00m err:\n",
      "File \u001b[0;32m~/anaconda3/lib/python3.10/site-packages/pandas/_libs/index.pyx:138\u001b[0m, in \u001b[0;36mpandas._libs.index.IndexEngine.get_loc\u001b[0;34m()\u001b[0m\n",
      "File \u001b[0;32m~/anaconda3/lib/python3.10/site-packages/pandas/_libs/index.pyx:165\u001b[0m, in \u001b[0;36mpandas._libs.index.IndexEngine.get_loc\u001b[0;34m()\u001b[0m\n",
      "File \u001b[0;32mpandas/_libs/hashtable_class_helper.pxi:5745\u001b[0m, in \u001b[0;36mpandas._libs.hashtable.PyObjectHashTable.get_item\u001b[0;34m()\u001b[0m\n",
      "File \u001b[0;32mpandas/_libs/hashtable_class_helper.pxi:5753\u001b[0m, in \u001b[0;36mpandas._libs.hashtable.PyObjectHashTable.get_item\u001b[0;34m()\u001b[0m\n",
      "\u001b[0;31mKeyError\u001b[0m: 'price_per_month'",
      "\nThe above exception was the direct cause of the following exception:\n",
      "\u001b[0;31mKeyError\u001b[0m                                  Traceback (most recent call last)",
      "Cell \u001b[0;32mIn[28], line 3\u001b[0m\n\u001b[1;32m      1\u001b[0m \u001b[38;5;66;03m#смотрим на price_per_sqm\u001b[39;00m\n\u001b[0;32m----> 3\u001b[0m df[\u001b[38;5;124m'\u001b[39m\u001b[38;5;124mprice_per_sqm\u001b[39m\u001b[38;5;124m'\u001b[39m] \u001b[38;5;241m=\u001b[39m \u001b[43mdf\u001b[49m\u001b[43m[\u001b[49m\u001b[38;5;124;43m'\u001b[39;49m\u001b[38;5;124;43mprice_per_month\u001b[39;49m\u001b[38;5;124;43m'\u001b[39;49m\u001b[43m]\u001b[49m \u001b[38;5;241m/\u001b[39m df[\u001b[38;5;124m'\u001b[39m\u001b[38;5;124mtotal_area\u001b[39m\u001b[38;5;124m'\u001b[39m]\n\u001b[1;32m      4\u001b[0m df[\u001b[38;5;124m'\u001b[39m\u001b[38;5;124mprice_per_sqm\u001b[39m\u001b[38;5;124m'\u001b[39m]\u001b[38;5;241m.\u001b[39mdescribe()\n",
      "File \u001b[0;32m~/anaconda3/lib/python3.10/site-packages/pandas/core/frame.py:3807\u001b[0m, in \u001b[0;36mDataFrame.__getitem__\u001b[0;34m(self, key)\u001b[0m\n\u001b[1;32m   3805\u001b[0m \u001b[38;5;28;01mif\u001b[39;00m \u001b[38;5;28mself\u001b[39m\u001b[38;5;241m.\u001b[39mcolumns\u001b[38;5;241m.\u001b[39mnlevels \u001b[38;5;241m>\u001b[39m \u001b[38;5;241m1\u001b[39m:\n\u001b[1;32m   3806\u001b[0m     \u001b[38;5;28;01mreturn\u001b[39;00m \u001b[38;5;28mself\u001b[39m\u001b[38;5;241m.\u001b[39m_getitem_multilevel(key)\n\u001b[0;32m-> 3807\u001b[0m indexer \u001b[38;5;241m=\u001b[39m \u001b[38;5;28;43mself\u001b[39;49m\u001b[38;5;241;43m.\u001b[39;49m\u001b[43mcolumns\u001b[49m\u001b[38;5;241;43m.\u001b[39;49m\u001b[43mget_loc\u001b[49m\u001b[43m(\u001b[49m\u001b[43mkey\u001b[49m\u001b[43m)\u001b[49m\n\u001b[1;32m   3808\u001b[0m \u001b[38;5;28;01mif\u001b[39;00m is_integer(indexer):\n\u001b[1;32m   3809\u001b[0m     indexer \u001b[38;5;241m=\u001b[39m [indexer]\n",
      "File \u001b[0;32m~/anaconda3/lib/python3.10/site-packages/pandas/core/indexes/base.py:3804\u001b[0m, in \u001b[0;36mIndex.get_loc\u001b[0;34m(self, key, method, tolerance)\u001b[0m\n\u001b[1;32m   3802\u001b[0m     \u001b[38;5;28;01mreturn\u001b[39;00m \u001b[38;5;28mself\u001b[39m\u001b[38;5;241m.\u001b[39m_engine\u001b[38;5;241m.\u001b[39mget_loc(casted_key)\n\u001b[1;32m   3803\u001b[0m \u001b[38;5;28;01mexcept\u001b[39;00m \u001b[38;5;167;01mKeyError\u001b[39;00m \u001b[38;5;28;01mas\u001b[39;00m err:\n\u001b[0;32m-> 3804\u001b[0m     \u001b[38;5;28;01mraise\u001b[39;00m \u001b[38;5;167;01mKeyError\u001b[39;00m(key) \u001b[38;5;28;01mfrom\u001b[39;00m \u001b[38;5;21;01merr\u001b[39;00m\n\u001b[1;32m   3805\u001b[0m \u001b[38;5;28;01mexcept\u001b[39;00m \u001b[38;5;167;01mTypeError\u001b[39;00m:\n\u001b[1;32m   3806\u001b[0m     \u001b[38;5;66;03m# If we have a listlike key, _check_indexing_error will raise\u001b[39;00m\n\u001b[1;32m   3807\u001b[0m     \u001b[38;5;66;03m#  InvalidIndexError. Otherwise we fall through and re-raise\u001b[39;00m\n\u001b[1;32m   3808\u001b[0m     \u001b[38;5;66;03m#  the TypeError.\u001b[39;00m\n\u001b[1;32m   3809\u001b[0m     \u001b[38;5;28mself\u001b[39m\u001b[38;5;241m.\u001b[39m_check_indexing_error(key)\n",
      "\u001b[0;31mKeyError\u001b[0m: 'price_per_month'"
     ]
    }
   ],
   "source": [
    "#смотрим на price_per_sqm\n",
    "\n",
    "df['price_per_sqm'] = df['price_per_month'] / df['total_area']\n",
    "df['price_per_sqm'].describe()"
   ]
  },
  {
   "cell_type": "code",
   "execution_count": 260,
   "metadata": {},
   "outputs": [
    {
     "data": {
      "text/html": [
       "<div>\n",
       "<style scoped>\n",
       "    .dataframe tbody tr th:only-of-type {\n",
       "        vertical-align: middle;\n",
       "    }\n",
       "\n",
       "    .dataframe tbody tr th {\n",
       "        vertical-align: top;\n",
       "    }\n",
       "\n",
       "    .dataframe thead th {\n",
       "        text-align: right;\n",
       "    }\n",
       "</style>\n",
       "<table border=\"1\" class=\"dataframe\">\n",
       "  <thead>\n",
       "    <tr style=\"text-align: right;\">\n",
       "      <th></th>\n",
       "      <th>ID  объявления</th>\n",
       "      <th>Количество комнат</th>\n",
       "      <th>Метро</th>\n",
       "      <th>Адрес</th>\n",
       "      <th>Площадь, м2</th>\n",
       "      <th>Дом</th>\n",
       "      <th>Парковка</th>\n",
       "      <th>Цена</th>\n",
       "      <th>Ремонт</th>\n",
       "      <th>Балкон</th>\n",
       "      <th>...</th>\n",
       "      <th>Высота потолков, м</th>\n",
       "      <th>Лифт</th>\n",
       "      <th>Мусоропровод</th>\n",
       "      <th>total_area</th>\n",
       "      <th>price_per_month</th>\n",
       "      <th>deposit</th>\n",
       "      <th>utilities</th>\n",
       "      <th>rental_term</th>\n",
       "      <th>advance_payment</th>\n",
       "      <th>price_per_sqm</th>\n",
       "    </tr>\n",
       "  </thead>\n",
       "  <tbody>\n",
       "    <tr>\n",
       "      <th>984</th>\n",
       "      <td>274969144</td>\n",
       "      <td>2, Смежная</td>\n",
       "      <td>м. Ладожская (5 мин на машине)</td>\n",
       "      <td>Санкт-Петербург, улица Крюкова, 17</td>\n",
       "      <td>46.0/29.0/7.0</td>\n",
       "      <td>3/5, Кирпичный</td>\n",
       "      <td>1</td>\n",
       "      <td>18000.0 руб./ За месяц, Сумма коммунальных пла...</td>\n",
       "      <td>Косметический</td>\n",
       "      <td>Балкон (1)</td>\n",
       "      <td>...</td>\n",
       "      <td>NaN</td>\n",
       "      <td>NaN</td>\n",
       "      <td>NaN</td>\n",
       "      <td>46.0</td>\n",
       "      <td>18000.0</td>\n",
       "      <td>18000.0</td>\n",
       "      <td>0</td>\n",
       "      <td>1</td>\n",
       "      <td>1</td>\n",
       "      <td>391.304348</td>\n",
       "    </tr>\n",
       "    <tr>\n",
       "      <th>1034</th>\n",
       "      <td>273761320</td>\n",
       "      <td>3, Изолированная</td>\n",
       "      <td>NaN</td>\n",
       "      <td>Санкт-Петербург, Ковалевская улица, 18К2</td>\n",
       "      <td>65.1/45.1/7.1</td>\n",
       "      <td>4/5, Кирпичный</td>\n",
       "      <td>0</td>\n",
       "      <td>25000.0 руб./ За месяц, Сумма коммунальных пла...</td>\n",
       "      <td>Косметический</td>\n",
       "      <td>Балкон (2)</td>\n",
       "      <td>...</td>\n",
       "      <td>2.50</td>\n",
       "      <td>NaN</td>\n",
       "      <td>Нет</td>\n",
       "      <td>65.1</td>\n",
       "      <td>25000.0</td>\n",
       "      <td>30000.0</td>\n",
       "      <td>0</td>\n",
       "      <td>1</td>\n",
       "      <td>1</td>\n",
       "      <td>384.024578</td>\n",
       "    </tr>\n",
       "    <tr>\n",
       "      <th>1036</th>\n",
       "      <td>271660240</td>\n",
       "      <td>3, Изолированная</td>\n",
       "      <td>м. Ладожская (8 мин на машине)</td>\n",
       "      <td>Санкт-Петербург, проспект Энтузиастов, 31к3</td>\n",
       "      <td>100.3/55.9/14.2</td>\n",
       "      <td>1/17, Панельный</td>\n",
       "      <td>1</td>\n",
       "      <td>25000.0 руб./ За месяц, Сумма коммунальных пла...</td>\n",
       "      <td>Без ремонта</td>\n",
       "      <td>NaN</td>\n",
       "      <td>...</td>\n",
       "      <td>2.60</td>\n",
       "      <td>Пасс (1), Груз (1)</td>\n",
       "      <td>Нет</td>\n",
       "      <td>100.3</td>\n",
       "      <td>25000.0</td>\n",
       "      <td>0.0</td>\n",
       "      <td>0</td>\n",
       "      <td>0</td>\n",
       "      <td>1</td>\n",
       "      <td>249.252243</td>\n",
       "    </tr>\n",
       "    <tr>\n",
       "      <th>1049</th>\n",
       "      <td>266010464</td>\n",
       "      <td>3, Изолированная</td>\n",
       "      <td>м. Девяткино (22 мин пешком)</td>\n",
       "      <td>Санкт-Петербург, аллея Евгения Шварца, 13к1, ш...</td>\n",
       "      <td>77.1/46.0/12.1</td>\n",
       "      <td>21/24, Панельный</td>\n",
       "      <td>0</td>\n",
       "      <td>30000.0 руб./ За месяц, Сумма коммунальных пла...</td>\n",
       "      <td>Евроремонт</td>\n",
       "      <td>Лоджия (1)</td>\n",
       "      <td>...</td>\n",
       "      <td>2.85</td>\n",
       "      <td>Пасс (2), Груз (1)</td>\n",
       "      <td>NaN</td>\n",
       "      <td>77.1</td>\n",
       "      <td>30000.0</td>\n",
       "      <td>30000.0</td>\n",
       "      <td>0</td>\n",
       "      <td>1</td>\n",
       "      <td>1</td>\n",
       "      <td>389.105058</td>\n",
       "    </tr>\n",
       "    <tr>\n",
       "      <th>2522</th>\n",
       "      <td>274633188</td>\n",
       "      <td>3</td>\n",
       "      <td>м. Мякинино (15 мин пешком)</td>\n",
       "      <td>Москва, Неманский проезд, 1к1</td>\n",
       "      <td>775.0/10.0</td>\n",
       "      <td>5/17</td>\n",
       "      <td>0</td>\n",
       "      <td>60000.0 руб./ За месяц, Залог - 60000 руб., Ко...</td>\n",
       "      <td>Косметический</td>\n",
       "      <td>Балкон (1)</td>\n",
       "      <td>...</td>\n",
       "      <td>2.64</td>\n",
       "      <td>Пасс (2)</td>\n",
       "      <td>Да</td>\n",
       "      <td>775.0</td>\n",
       "      <td>60000.0</td>\n",
       "      <td>60000.0</td>\n",
       "      <td>1</td>\n",
       "      <td>1</td>\n",
       "      <td>1</td>\n",
       "      <td>77.419355</td>\n",
       "    </tr>\n",
       "    <tr>\n",
       "      <th>...</th>\n",
       "      <td>...</td>\n",
       "      <td>...</td>\n",
       "      <td>...</td>\n",
       "      <td>...</td>\n",
       "      <td>...</td>\n",
       "      <td>...</td>\n",
       "      <td>...</td>\n",
       "      <td>...</td>\n",
       "      <td>...</td>\n",
       "      <td>...</td>\n",
       "      <td>...</td>\n",
       "      <td>...</td>\n",
       "      <td>...</td>\n",
       "      <td>...</td>\n",
       "      <td>...</td>\n",
       "      <td>...</td>\n",
       "      <td>...</td>\n",
       "      <td>...</td>\n",
       "      <td>...</td>\n",
       "      <td>...</td>\n",
       "      <td>...</td>\n",
       "    </tr>\n",
       "    <tr>\n",
       "      <th>22704</th>\n",
       "      <td>272334454</td>\n",
       "      <td>2</td>\n",
       "      <td>NaN</td>\n",
       "      <td>Санкт-Петербург, пос. Шушары, улица Валдайская...</td>\n",
       "      <td>61.7/12.0</td>\n",
       "      <td>25/25</td>\n",
       "      <td>0</td>\n",
       "      <td>24000.0 руб./ За месяц, Сумма коммунальных пла...</td>\n",
       "      <td>Косметический</td>\n",
       "      <td>Балкон (2)</td>\n",
       "      <td>...</td>\n",
       "      <td>NaN</td>\n",
       "      <td>NaN</td>\n",
       "      <td>Нет</td>\n",
       "      <td>61.7</td>\n",
       "      <td>24000.0</td>\n",
       "      <td>13000.0</td>\n",
       "      <td>0</td>\n",
       "      <td>1</td>\n",
       "      <td>1</td>\n",
       "      <td>388.978930</td>\n",
       "    </tr>\n",
       "    <tr>\n",
       "      <th>22711</th>\n",
       "      <td>271342969</td>\n",
       "      <td>1</td>\n",
       "      <td>NaN</td>\n",
       "      <td>Санкт-Петербург, пос. Шушары, Московское шоссе...</td>\n",
       "      <td>31.0/14.0/10.0</td>\n",
       "      <td>3/9</td>\n",
       "      <td>0</td>\n",
       "      <td>10000.0 руб./ За месяц, Сумма коммунальных пла...</td>\n",
       "      <td>Без ремонта</td>\n",
       "      <td>NaN</td>\n",
       "      <td>...</td>\n",
       "      <td>NaN</td>\n",
       "      <td>Пасс (1), Груз (1)</td>\n",
       "      <td>NaN</td>\n",
       "      <td>31.0</td>\n",
       "      <td>10000.0</td>\n",
       "      <td>0.0</td>\n",
       "      <td>0</td>\n",
       "      <td>1</td>\n",
       "      <td>1</td>\n",
       "      <td>322.580645</td>\n",
       "    </tr>\n",
       "    <tr>\n",
       "      <th>22713</th>\n",
       "      <td>271949078</td>\n",
       "      <td>1</td>\n",
       "      <td>NaN</td>\n",
       "      <td>Санкт-Петербург, пос. Шушары, Ленсоветовский т...</td>\n",
       "      <td>42.0/17.0/13.7</td>\n",
       "      <td>8/10, Панельный</td>\n",
       "      <td>0</td>\n",
       "      <td>14000.0 руб./ За месяц, Залог - 1 руб., Срок а...</td>\n",
       "      <td>Без ремонта</td>\n",
       "      <td>Балкон (1)</td>\n",
       "      <td>...</td>\n",
       "      <td>NaN</td>\n",
       "      <td>Пасс (1), Груз (1)</td>\n",
       "      <td>NaN</td>\n",
       "      <td>42.0</td>\n",
       "      <td>14000.0</td>\n",
       "      <td>0.0</td>\n",
       "      <td>0</td>\n",
       "      <td>1</td>\n",
       "      <td>1</td>\n",
       "      <td>333.333333</td>\n",
       "    </tr>\n",
       "    <tr>\n",
       "      <th>22723</th>\n",
       "      <td>268161801</td>\n",
       "      <td>1</td>\n",
       "      <td>NaN</td>\n",
       "      <td>Санкт-Петербург, пос. Шушары, Ленсоветовский т...</td>\n",
       "      <td>41.0/18.0/11.0</td>\n",
       "      <td>8/10, Панельный</td>\n",
       "      <td>0</td>\n",
       "      <td>16000.0 руб./ За месяц, Сумма коммунальных пла...</td>\n",
       "      <td>Косметический</td>\n",
       "      <td>Лоджия (1)</td>\n",
       "      <td>...</td>\n",
       "      <td>NaN</td>\n",
       "      <td>Пасс (1)</td>\n",
       "      <td>NaN</td>\n",
       "      <td>41.0</td>\n",
       "      <td>16000.0</td>\n",
       "      <td>8000.0</td>\n",
       "      <td>0</td>\n",
       "      <td>1</td>\n",
       "      <td>1</td>\n",
       "      <td>390.243902</td>\n",
       "    </tr>\n",
       "    <tr>\n",
       "      <th>22763</th>\n",
       "      <td>274993336</td>\n",
       "      <td>1</td>\n",
       "      <td>м. Войковская (5 мин пешком)</td>\n",
       "      <td>Москва, Старопетровский проезд, 8</td>\n",
       "      <td>31.0/21.0/7.0</td>\n",
       "      <td>4/17</td>\n",
       "      <td>0</td>\n",
       "      <td>12000.0 руб./ За месяц, Коммунальные услуги вк...</td>\n",
       "      <td>Без ремонта</td>\n",
       "      <td>NaN</td>\n",
       "      <td>...</td>\n",
       "      <td>NaN</td>\n",
       "      <td>NaN</td>\n",
       "      <td>NaN</td>\n",
       "      <td>31.0</td>\n",
       "      <td>12000.0</td>\n",
       "      <td>0.0</td>\n",
       "      <td>1</td>\n",
       "      <td>1</td>\n",
       "      <td>1</td>\n",
       "      <td>387.096774</td>\n",
       "    </tr>\n",
       "  </tbody>\n",
       "</table>\n",
       "<p>92 rows × 24 columns</p>\n",
       "</div>"
      ],
      "text/plain": [
       "       ID  объявления Количество комнат                           Метро  \\\n",
       "984         274969144        2, Смежная  м. Ладожская (5 мин на машине)   \n",
       "1034        273761320  3, Изолированная                             NaN   \n",
       "1036        271660240  3, Изолированная  м. Ладожская (8 мин на машине)   \n",
       "1049        266010464  3, Изолированная    м. Девяткино (22 мин пешком)   \n",
       "2522        274633188                 3     м. Мякинино (15 мин пешком)   \n",
       "...               ...               ...                             ...   \n",
       "22704       272334454                 2                             NaN   \n",
       "22711       271342969                 1                             NaN   \n",
       "22713       271949078                 1                             NaN   \n",
       "22723       268161801                 1                             NaN   \n",
       "22763       274993336                 1    м. Войковская (5 мин пешком)   \n",
       "\n",
       "                                                   Адрес      Площадь, м2  \\\n",
       "984                   Санкт-Петербург, улица Крюкова, 17    46.0/29.0/7.0   \n",
       "1034            Санкт-Петербург, Ковалевская улица, 18К2    65.1/45.1/7.1   \n",
       "1036         Санкт-Петербург, проспект Энтузиастов, 31к3  100.3/55.9/14.2   \n",
       "1049   Санкт-Петербург, аллея Евгения Шварца, 13к1, ш...   77.1/46.0/12.1   \n",
       "2522                       Москва, Неманский проезд, 1к1       775.0/10.0   \n",
       "...                                                  ...              ...   \n",
       "22704  Санкт-Петербург, пос. Шушары, улица Валдайская...        61.7/12.0   \n",
       "22711  Санкт-Петербург, пос. Шушары, Московское шоссе...   31.0/14.0/10.0   \n",
       "22713  Санкт-Петербург, пос. Шушары, Ленсоветовский т...   42.0/17.0/13.7   \n",
       "22723  Санкт-Петербург, пос. Шушары, Ленсоветовский т...   41.0/18.0/11.0   \n",
       "22763                  Москва, Старопетровский проезд, 8    31.0/21.0/7.0   \n",
       "\n",
       "                    Дом Парковка  \\\n",
       "984      3/5, Кирпичный        1   \n",
       "1034     4/5, Кирпичный        0   \n",
       "1036    1/17, Панельный        1   \n",
       "1049   21/24, Панельный        0   \n",
       "2522               5/17        0   \n",
       "...                 ...      ...   \n",
       "22704             25/25        0   \n",
       "22711               3/9        0   \n",
       "22713   8/10, Панельный        0   \n",
       "22723   8/10, Панельный        0   \n",
       "22763              4/17        0   \n",
       "\n",
       "                                                    Цена         Ремонт  \\\n",
       "984    18000.0 руб./ За месяц, Сумма коммунальных пла...  Косметический   \n",
       "1034   25000.0 руб./ За месяц, Сумма коммунальных пла...  Косметический   \n",
       "1036   25000.0 руб./ За месяц, Сумма коммунальных пла...    Без ремонта   \n",
       "1049   30000.0 руб./ За месяц, Сумма коммунальных пла...     Евроремонт   \n",
       "2522   60000.0 руб./ За месяц, Залог - 60000 руб., Ко...  Косметический   \n",
       "...                                                  ...            ...   \n",
       "22704  24000.0 руб./ За месяц, Сумма коммунальных пла...  Косметический   \n",
       "22711  10000.0 руб./ За месяц, Сумма коммунальных пла...    Без ремонта   \n",
       "22713  14000.0 руб./ За месяц, Залог - 1 руб., Срок а...    Без ремонта   \n",
       "22723  16000.0 руб./ За месяц, Сумма коммунальных пла...  Косметический   \n",
       "22763  12000.0 руб./ За месяц, Коммунальные услуги вк...    Без ремонта   \n",
       "\n",
       "           Балкон  ... Высота потолков, м                Лифт  Мусоропровод  \\\n",
       "984    Балкон (1)  ...                NaN                 NaN           NaN   \n",
       "1034   Балкон (2)  ...               2.50                 NaN           Нет   \n",
       "1036          NaN  ...               2.60  Пасс (1), Груз (1)           Нет   \n",
       "1049   Лоджия (1)  ...               2.85  Пасс (2), Груз (1)           NaN   \n",
       "2522   Балкон (1)  ...               2.64            Пасс (2)            Да   \n",
       "...           ...  ...                ...                 ...           ...   \n",
       "22704  Балкон (2)  ...                NaN                 NaN           Нет   \n",
       "22711         NaN  ...                NaN  Пасс (1), Груз (1)           NaN   \n",
       "22713  Балкон (1)  ...                NaN  Пасс (1), Груз (1)           NaN   \n",
       "22723  Лоджия (1)  ...                NaN            Пасс (1)           NaN   \n",
       "22763         NaN  ...                NaN                 NaN           NaN   \n",
       "\n",
       "       total_area  price_per_month  deposit utilities  rental_term  \\\n",
       "984          46.0          18000.0  18000.0         0            1   \n",
       "1034         65.1          25000.0  30000.0         0            1   \n",
       "1036        100.3          25000.0      0.0         0            0   \n",
       "1049         77.1          30000.0  30000.0         0            1   \n",
       "2522        775.0          60000.0  60000.0         1            1   \n",
       "...           ...              ...      ...       ...          ...   \n",
       "22704        61.7          24000.0  13000.0         0            1   \n",
       "22711        31.0          10000.0      0.0         0            1   \n",
       "22713        42.0          14000.0      0.0         0            1   \n",
       "22723        41.0          16000.0   8000.0         0            1   \n",
       "22763        31.0          12000.0      0.0         1            1   \n",
       "\n",
       "       advance_payment  price_per_sqm  \n",
       "984                  1     391.304348  \n",
       "1034                 1     384.024578  \n",
       "1036                 1     249.252243  \n",
       "1049                 1     389.105058  \n",
       "2522                 1      77.419355  \n",
       "...                ...            ...  \n",
       "22704                1     388.978930  \n",
       "22711                1     322.580645  \n",
       "22713                1     333.333333  \n",
       "22723                1     390.243902  \n",
       "22763                1     387.096774  \n",
       "\n",
       "[92 rows x 24 columns]"
      ]
     },
     "execution_count": 260,
     "metadata": {},
     "output_type": "execute_result"
    }
   ],
   "source": [
    "df[(df['price_per_sqm'] < 400)]"
   ]
  },
  {
   "cell_type": "markdown",
   "metadata": {},
   "source": [
    "## Обработка данных в колонке \"Количество комнат\""
   ]
  },
  {
   "cell_type": "code",
   "execution_count": 29,
   "metadata": {},
   "outputs": [],
   "source": [
    "# Заполняем пустоты колонки 'Количество комнат'\n",
    "\n",
    "df['Количество комнат'] = df['Количество комнат'].fillna('1')"
   ]
  },
  {
   "cell_type": "code",
   "execution_count": 30,
   "metadata": {},
   "outputs": [],
   "source": [
    "# Разделяем колонку 'Количество комнат' на три: 'Количество комнат1', 'Смежная комната', 'Изолированная комната' и присваиваем 1 к типу комнаты, который указан к объявлении\n",
    "\n",
    "df['Количество комнат1'] = [int(row.split(', ')[0]) for row in df['Количество комнат']]\n",
    "df['Смежная комната'] = [1 if (row.split(', ')[-1]) == 'Смежная' or (row.split(', ')[-1]) == 'Оба варианта' else 0 for row in df['Количество комнат']]\n",
    "df['Изолированная комната'] = [1 if (row.split(', ')[-1]) == 'Изолированная' or (row.split(', ')[-1]) == 'Оба варианта' else 0 for row in df['Количество комнат']]"
   ]
  },
  {
   "cell_type": "code",
   "execution_count": 31,
   "metadata": {},
   "outputs": [],
   "source": [
    "# Удаляем обработанную колонку 'Количество комнат',так как она нам больше не понадобится\n",
    "\n",
    "df = df.drop('Количество комнат', axis=1)"
   ]
  },
  {
   "cell_type": "markdown",
   "metadata": {},
   "source": [
    "## Обработка данных в колонке \"Дом\""
   ]
  },
  {
   "cell_type": "code",
   "execution_count": 32,
   "metadata": {},
   "outputs": [],
   "source": [
    "# Разделяем колонку \"Дом\" на 9 колонок: 'Этаж квартиры', 'Этажность дома', 'Кирпичный дом', 'Блочный дом', 'Монолитный дом', 'Монолитно-кирпичный дом', 'Панельный дом', \n",
    "# 'Сталинский дом', 'старый фонд' и присваиваем нужные значения\n",
    "\n",
    "df['Этаж квартиры'] = [int(row.split('/')[0]) for row in df['Дом']]\n",
    "df['Этаж квартиры'] = abs(df['Этаж квартиры'])     # используем модуль, так как есть отрицательные значения этажей\n",
    "\n",
    "df['Этажность дома'] = [int(row.split('/')[1].split(', ')[0]) for row in df['Дом']]\n",
    "df['Кирпичный дом'] = [1 if (row.split(', ')[-1]) == 'Кирпичный' else 0 for row in df['Дом']]\n",
    "df['Блочный дом'] = [1 if (row.split(', ')[-1]) == 'Блочный' else 0 for row in df['Дом']]\n",
    "df['Монолитный дом'] = [1 if (row.split(', ')[-1]) == 'Монолитный' else 0 for row in df['Дом']]\n",
    "df['Монолитно-кирпичный дом'] = [1 if (row.split(', ')[-1]) == 'Монолитно-кирпичный' else 0 for row in df['Дом']]\n",
    "df['Панельный дом'] = [1 if (row.split(', ')[-1]) == 'Панельный' else 0 for row in df['Дом']]\n",
    "df['Сталинский дом'] = [1 if (row.split(', ')[-1]) == 'Сталинский' else 0 for row in df['Дом']]\n",
    "df['старый фонд'] = [1 if (row.split(', ')[-1]) == 'старый фонд' else 0 for row in df['Дом']]"
   ]
  },
  {
   "cell_type": "code",
   "execution_count": 33,
   "metadata": {},
   "outputs": [],
   "source": [
    "# Удаляем обработанную колонку 'Дом',так как она нам больше не понадобится\n",
    "\n",
    "df = df.drop('Дом', axis=1)"
   ]
  },
  {
   "cell_type": "markdown",
   "metadata": {},
   "source": [
    "## Обработка данных в колонке \"Балкон\""
   ]
  },
  {
   "cell_type": "code",
   "execution_count": 34,
   "metadata": {},
   "outputs": [],
   "source": [
    "# Заполняем пустоты колонки \"Балкон\" и разделяем значения (кол-во) на две колонки \"Балкон\" и \"Лоджия\"\n",
    "\n",
    "df['Балкон'] = df['Балкон'].fillna('Балкон (0)')\n",
    "df['Лоджия'] = [row.split(' ')[-1] if row.split(' ')[-2] == 'Лоджия' else '(0)' for row in df['Балкон']]\n",
    "df['Балкон1'] = [row.split(' ')[1] if row.split(' ')[0] == 'Балкон' else '(0)' for row in df['Балкон']]"
   ]
  },
  {
   "cell_type": "code",
   "execution_count": 35,
   "metadata": {},
   "outputs": [],
   "source": [
    "# Удалаяем лишние символы и переводим значения колонок \"Балкон\" и \"Лоджия\" из str в int\n",
    "\n",
    "df['Лоджия'] = [int(row.replace('(', '').replace(')', '')) for row in df['Лоджия']]\n",
    "df['Балкон1'] = [int(row.replace('(', '').replace(')', '').replace(',', '')) for row in df['Балкон1']]"
   ]
  },
  {
   "cell_type": "code",
   "execution_count": 36,
   "metadata": {},
   "outputs": [],
   "source": [
    "# Удаляем обработанную колонку 'Балкон',так как она нам больше не понадобится\n",
    "\n",
    "df = df.drop('Балкон', axis=1)"
   ]
  },
  {
   "cell_type": "markdown",
   "metadata": {},
   "source": [
    "## Обработка данных в колонке \"Можно с детьми/животными\""
   ]
  },
  {
   "cell_type": "code",
   "execution_count": 37,
   "metadata": {},
   "outputs": [],
   "source": [
    "# Заполняем пустоты колонки 'Можно с детьми/животными'\n",
    "\n",
    "df['Можно с детьми/животными'] = df['Можно с детьми/животными'].fillna('0')"
   ]
  },
  {
   "cell_type": "code",
   "execution_count": 38,
   "metadata": {},
   "outputs": [],
   "source": [
    "# Создаём две новые колонки \"Можно с детьми\" и \"Можно с животными\" и присваиваем значения, если можно, то 1, если нельзя, то 0\n",
    "\n",
    "df['Можно с детьми'] = [1 if (row.split(', ')[0]) == 'Можно с детьми' else 0 for row in df['Можно с детьми/животными']]\n",
    "df['Можно с животными'] = [1 if (row.split(', ')[-1]) == 'Можно с животными' else 0 for row in df['Можно с детьми/животными']]"
   ]
  },
  {
   "cell_type": "code",
   "execution_count": 39,
   "metadata": {},
   "outputs": [],
   "source": [
    "# Удаляем обработанную колонку 'Можно с детьми/животными',так как она нам больше не понадобится\n",
    "\n",
    "df = df.drop('Можно с детьми/животными', axis=1)"
   ]
  },
  {
   "cell_type": "markdown",
   "metadata": {},
   "source": [
    "## Обработка данных в колонке \"Мусоропровод\""
   ]
  },
  {
   "cell_type": "code",
   "execution_count": 40,
   "metadata": {},
   "outputs": [],
   "source": [
    "# Заполняем пустоты колонки \"Мусоропровод\" и переводим значения в числовой формат (да-1, нет-0)\n",
    "\n",
    "df['Мусоропровод'] = df['Мусоропровод'].fillna(0).replace(['Да'], 1).replace(['Нет'], 0)"
   ]
  },
  {
   "cell_type": "markdown",
   "metadata": {},
   "source": [
    "## Обработка данных в колонке \"Санузел\""
   ]
  },
  {
   "cell_type": "markdown",
   "metadata": {},
   "source": [
    "**Nan в колонке \"Санузел\" заменим на 1. Преобразуем колонку \"Санузел\" в две колонки: \"Тип cанузла\"(раздельный 1,совместный 0) и \"Количество санузлов\".**"
   ]
  },
  {
   "cell_type": "code",
   "execution_count": 57,
   "metadata": {},
   "outputs": [],
   "source": [
    "df['Санузел']=df['Санузел'].fillna('Совмещенный (1)')"
   ]
  },
  {
   "cell_type": "code",
   "execution_count": 58,
   "metadata": {},
   "outputs": [],
   "source": [
    "df['Санузел']=df['Санузел'].fillna('Совмещенный (1)')"
   ]
  },
  {
   "cell_type": "code",
   "execution_count": null,
   "metadata": {},
   "outputs": [],
   "source": [
    "df.insert(11, \"Тип cанузла\", 0) #добавляем новую колонку"
   ]
  },
  {
   "cell_type": "code",
   "execution_count": 44,
   "metadata": {},
   "outputs": [],
   "source": [
    "df.insert(12, \"Количество санузлов\", 0) #добавляем новую колонку"
   ]
  },
  {
   "cell_type": "code",
   "execution_count": 45,
   "metadata": {},
   "outputs": [],
   "source": [
    "values=list(df['Санузел'].str.findall(r'(\\d+(?:\\.\\d+)?)').values) #только цифры с количеством Санузлов"
   ]
  },
  {
   "cell_type": "code",
   "execution_count": 46,
   "metadata": {},
   "outputs": [],
   "source": [
    "result=[]\n",
    "for i in range(len(values)):\n",
    "    values[i]=[int(x) for x in values[i]]\n",
    "    result.append(sum(values[i]))\n",
    "df[\"Количество санузлов\"]=[x for x in result] #заполняем Количество санузлов суммой из колонки \"Санузлы\""
   ]
  },
  {
   "cell_type": "code",
   "execution_count": 47,
   "metadata": {},
   "outputs": [],
   "source": [
    "values_types=list(df['Санузел'].values) #все типы Санузлов в dataset"
   ]
  },
  {
   "cell_type": "code",
   "execution_count": 48,
   "metadata": {},
   "outputs": [],
   "source": [
    "result_types=[]\n",
    "for i in range(len(values_types)):\n",
    "    if 'щ' in values_types[i]:\n",
    "        result_types.append(1)\n",
    "    else: result_types.append(0)\n",
    "\n",
    "df['Тип cанузла']=[x for x in result_types] #заполняем Типы санузлов \n",
    "             "
   ]
  },
  {
   "cell_type": "code",
   "execution_count": 66,
   "metadata": {},
   "outputs": [],
   "source": [
    "df=df.drop(columns='Санузел',axis=1) # удаляем колонку Санузел"
   ]
  },
  {
   "cell_type": "markdown",
   "metadata": {},
   "source": [
    "## Обработка данных в колонке \"Лифт\""
   ]
  },
  {
   "cell_type": "markdown",
   "metadata": {},
   "source": [
    "**Преобразуем колонку \"Лифт\" в две колонки: \"Лифт пасс\"(количество) и \"Лифт груз\" (количество). Для nan в колонке 'Лифт' применим условие: если в доме больше 5 этажей, то должен быть пассажирский и грузовой лифты**"
   ]
  },
  {
   "cell_type": "code",
   "execution_count": 52,
   "metadata": {},
   "outputs": [],
   "source": [
    "df['Лифт'] = [row if row == row else\n",
    "              ['Пасс (1), Груз (1)' if df['Этажность дома'].iloc[i]>5 else 'Пасс (0), Груз (0)'][0]\n",
    "              for i, row in enumerate(df['Лифт'])] # Избавляемся от NaN, если меньше 5 этажей - нет лифта, \n",
    "#для остальных - по одному каждого типа"
   ]
  },
  {
   "cell_type": "code",
   "execution_count": 53,
   "metadata": {},
   "outputs": [],
   "source": [
    "df['Лифт пасс'] = [row.split(' ')[1] if (row.split(' ')[0]) == 'Пасс' else '(0)' for row in df['Лифт']]\n",
    "df['Лифт груз'] = [row.split(' ')[-1] if (row.split(' ')[-2]) == 'Груз' else '(0)' for row in df['Лифт']]\n",
    "# Разбиваем колонку с лифтами на две раздельные "
   ]
  },
  {
   "cell_type": "code",
   "execution_count": 54,
   "metadata": {},
   "outputs": [],
   "source": [
    "df['Лифт пасс'] = [row.split('(')[1] for row in df['Лифт пасс']]\n",
    "df['Лифт пасс'] = [int(row.split(')')[0]) for row in df['Лифт пасс']]\n",
    "df['Лифт груз'] = [row.split('(')[1] for row in df['Лифт груз']]\n",
    "df['Лифт груз'] = [int(row.split(')')[0]) for row in df['Лифт груз']]\n",
    "df = df.drop(['Лифт'], axis = 1)\n",
    "\n",
    "#удаляем скобки и преобразовываем в целые числа, удаляем колонку Лифт"
   ]
  },
  {
   "cell_type": "markdown",
   "metadata": {},
   "source": [
    "# Обработка данных в колонке \"Метро\"\n",
    "### с данной колонкой совершим несколько действий:\n",
    "- на основании данных об удалённости от метро создадим новую колонку в которых будет два значения 1 (для объектов которые удалены от метро в 15 минутах ходьбы) и 0 (для отсутствующих данных в колонке \"Метро\", а также для тех объектов которые находятся на расстоянии более 15 минут пешей доступности от метро)\n",
    "- саму колонку преобразуем в числовые значения от 0 до 10, которые обозначают административный округ г. Москвы, где расположено ближайшая станция метро от объекта (числа от 1 до 10), число 0 значит, что либо данные о метро отсутствовал, либо станция метро не попала в числовые значения выше."
   ]
  },
  {
   "cell_type": "code",
   "execution_count": null,
   "metadata": {},
   "outputs": [],
   "source": [
    "df = df[df['Адрес'].apply(lambda x: x.split(',')[0])=='Москва']"
   ]
  },
  {
   "cell_type": "code",
   "execution_count": null,
   "metadata": {},
   "outputs": [],
   "source": [
    "df['Близость к метро'] = df['Метро'][df['Метро'].notna()].apply(lambda x: x.split('(')[1].strip(')'))"
   ]
  },
  {
   "cell_type": "code",
   "execution_count": null,
   "metadata": {},
   "outputs": [],
   "source": [
    "df[df['Близость к метро'].isna()] = 0"
   ]
  },
  {
   "cell_type": "code",
   "execution_count": null,
   "metadata": {},
   "outputs": [],
   "source": [
    "def metro(data, features):\n",
    "    lst = []\n",
    "    for i in data[features]:\n",
    "        if i == 0:\n",
    "            lst.append(0)\n",
    "        elif i.split()[0] == 'None':\n",
    "            lst.append(0)\n",
    "        elif i.split()[-1] == 'пешком' and int(i.split()[0]) <= 15:\n",
    "            lst.append(1)\n",
    "        else: lst.append(0)\n",
    "    data[features] = lst\n",
    "metro(df, 'Близость к метро')"
   ]
  },
  {
   "cell_type": "markdown",
   "metadata": {},
   "source": [
    "# Обработка данных колонки \"Высота потолков\"\n",
    "### для заполнения пропущенных ячеек колонки, а также ячейки в которых значения  менее 2.5 м или более 4.5 м назначили новые данный равными Модой для данной колонки "
   ]
  },
  {
   "cell_type": "code",
   "execution_count": null,
   "metadata": {},
   "outputs": [],
   "source": [
    "mode_height = float(df['Высота потолков, м'].mode())\n",
    "df['Высота потолков, м'].fillna(mode_height, inplace=True)\n",
    "df['Высота потолков, м'].mask(df['Высота потолков, м'] > 4.5, mode_height, inplace=True)\n",
    "df['Высота потолков, м'].mask(df['Высота потолков, м'] < 2.5, mode_height, inplace=True)"
   ]
  },
  {
   "cell_type": "markdown",
   "metadata": {},
   "source": [
    "# Обработка данных колонки \"Ремонт\"\n",
    "### в колонке ремонт всего 5 значений, помимо NaN: \n",
    "- косметический\n",
    "- евроремонт\n",
    "- дизайнерский\n",
    "- без ремонта.\n",
    "Создали новые 4 колонки для каждого из данных значений. NaN в колонку без ремонта"
   ]
  },
  {
   "cell_type": "code",
   "execution_count": null,
   "metadata": {},
   "outputs": [],
   "source": [
    "df['Ремонт'].fillna('Без ремонта', inplace=True)\n",
    "def repair(data, feature):\n",
    "    for i in data[feature].unique():\n",
    "        data[feature + ': ' + i] = (data[feature] == i).astype(int)\n",
    "\n",
    "repair(df, 'Ремонт')"
   ]
  },
  {
   "cell_type": "markdown",
   "metadata": {},
   "source": [
    "# Словарь с данными названий станций метро в каком АО"
   ]
  },
  {
   "cell_type": "code",
   "execution_count": null,
   "metadata": {},
   "outputs": [],
   "source": [
    "dct = {\n",
    "    1: ['Авиамоторная', 'Андроновка', 'Белокаменная', 'Бульвар Рокоссовского', 'Измайлово', 'Измайловская', \\\n",
    "            'Локомотив', 'Лухмановская', 'Новогиреево', 'Новокосино', 'Партизанская', \\\n",
    "            'Первомайская', 'Перово', 'Преображенская площадь', 'Семеновская', 'Соколиная Гора', 'Сокольники', \\\n",
    "            'Улица Дмитриевского', 'Черкизовская', 'Шоссе Энтузиастов', \\\n",
    "            'Щелковская', 'Электрозаводская'],\n",
    "    2: ['Аминьевская', 'Багратионовская', 'Боровское шоссе', 'Давыдково', 'Киевская', \\\n",
    "            'Кропоткинская', 'Крылатское', 'Кунцевская', 'Кутузовская', 'Ломоносовский проспект', 'Минская', \\\n",
    "            'Мичуринский проспект', 'Молодежная', 'Новопеределкино', 'Озёрная', 'Парк Победы', 'Пионерская', \\\n",
    "            'Проспект Вернадского', 'Рабочий Посёлок', 'Раменки', 'Сетунь', 'Славянский бульвар', 'Солнцево', \\\n",
    "            'Студенческая', 'Тропарёво', 'Филевский парк', 'Фили', 'Юго-Западная'],\n",
    "    3: ['Говорово', 'Коммунарка', 'Ольховая', 'Остафьево', 'Прокшино', 'Рассказовка', 'Румянцево', 'Саларьево', \\\n",
    "           'Филатов Луг', 'Щербинка'],\n",
    "    4: ['Аэропорт', 'Балтийская', 'Беговая', 'Беломорская', 'Бескудниково', 'Верхние Лихоборы', \\\n",
    "           'Водный стадион', 'Войковская', 'Гражданская', 'Дегунино', 'Динамо', 'Дмитровская', \\\n",
    "           'Зорге', 'Коптево', 'Красный', 'Балтиец', 'Лихоборы', 'Марк', 'Окружная', 'Панфиловская', \\\n",
    "           'Петровский парк', 'Петровско-Разумовская', 'Полежаевская', 'Речной вокзал', 'Савеловская', \\\n",
    "           'Селигерская', 'Сокол', 'Стрешнево', 'Тимирязевская', 'Ховрино', 'Хорошёво', 'Хорошёвская', 'ЦСКА'],\n",
    "    5: ['Алексеевская', 'Алтуфьево', 'Бабушкинская', 'Бибирево', 'Ботанический сад', 'Бутырская', 'ВДНХ', \\\n",
    "            'Владыкино', 'Выставочный центр', 'Лианозово', 'Марьина Роща', 'Медведково', 'Окружная', \\\n",
    "            'Отрадное', 'Ростокино', 'Савеловская', 'Свиблово', 'Телецентр', 'Улица Академика Королёва', \\\n",
    "            'Улица Милашенкова', 'Улица Сергея Эйзенштейна', 'Фонвизинская'],\n",
    "    6: ['Волоколамская', 'Митино', 'Мнёвники', 'Народное Ополчение', 'Октябрьское поле', 'Пенягино', \\\n",
    "            'Планерная', 'Пятницкое шоссе', 'Спартак', 'Строгино', 'Сходненская', 'Терехово', 'Трикотажная', \\\n",
    "            'Тушинская', 'Щукинская'],\n",
    "    7: ['Александровский сад', 'Арбатская', 'Баррикадная', 'Бауманская', 'Беговая', 'Белорусская', \\\n",
    "           'Библиотека имени Ленина', 'Боровицкая', 'Выставочная', 'Деловой центр', 'Добрынинская', \\\n",
    "           'Достоевская', 'Китай-город', 'Комсомольская', 'Краснопресненская', 'Красносельская', \\\n",
    "           'Красные ворота', 'Крестьянская застава', 'Кузнецкий мост', 'Курская', 'Лубянка', 'Лужники', \\\n",
    "           'Марксистская', 'Маяковская', 'Международная', 'Менделеевская', 'Новокузнецкая', 'Новослободская', \\\n",
    "           'Охотный ряд', 'Павелецкая', 'Площадь Ильича', 'Площадь Революции', 'Площадь трёх вокзалов', \\\n",
    "           'Полянка', 'Пролетарская', 'Проспект Мира', 'Пушкинская', 'Рижская', 'Римская', 'Серпуховская', \\\n",
    "           'Смоленская', 'Спортивная', 'Сретенский бульвар', 'Сухаревская', 'Таганская', 'Тверская', 'Театральная', \\\n",
    "           'Тестовская', 'Третьяковская', 'Трубная', 'Тургеневская', 'Улица 1905 года', 'Фрунзенская', \\\n",
    "           'Цветной бульвар', 'Чеховская', 'Чистые пруды', 'Чкаловская', 'Шелепиха', 'Электрозаводская'],\n",
    "    8: ['Авиамоторная', 'Братиславская', 'Волгоградский проспект', 'Волжская', 'Выхино', 'Депо', 'Дубровка', \\\n",
    "            'Жулебино', 'Калитники', 'Кожуховская', 'Косино', 'Котельники', 'Кузьминки', 'Курьяново', \\\n",
    "            'Лермонтовский проспект', 'Лефортово', 'Люблино', 'Марьино', 'Москва-Товарная', 'Некрасовка', \\\n",
    "            'Нижегородская', 'Новохохловская', 'Окская', 'Перерва', 'Печатники', 'Рязанский проспект', \\\n",
    "            'Стахановская', 'Текстильщики', 'Угрешская', 'Юго-Восточная'],\n",
    "    9: ['Академическая', 'Беляево', 'Битцевский парк', 'Бульвар адмирала Ушакова', \\\n",
    "            'Бульвар Дмитрия Донского', 'Бунинская Аллея', 'Бутово', 'Воронцовская', 'Зюзино', 'Калужская', \\\n",
    "            'Каховская', 'Коньково', 'Нахимовский Проспект', 'Новаторская', 'Новоясеневская', \\\n",
    "            'Новые Черёмушки', 'Площадь Гагарина', 'Профсоюзная', 'Севастопольская', 'Теплый стан', \\\n",
    "            'Улица Горчакова', 'Улица Скобелевская', 'Улица Старокачаловская', 'Университет', 'Ясенево'],\n",
    "    10: ['Автозаводская', 'Алма-Атинская', 'Аннино', 'Борисово', 'Варшавская', 'Верхние Котлы', 'Домодедовская', \\\n",
    "            'ЗИЛ', 'Зябликово', 'Кантемировская', 'Каширская', 'Кленовый бульвар', 'Коломенская', \\\n",
    "            'Красногвардейская', 'Красный Строитель', 'Крымская', 'Ленинский проспект', 'Лесопарковая', \\\n",
    "            'Москворечье', 'Нагатинская', 'Нагатинский Затон', 'Нагорная', 'Орехово', 'Покровское', \\\n",
    "            'Пражская', 'Технопарк', 'Тульская', 'Улица академика Янгеля', 'Царицыно', 'Чертановская', \\\n",
    "            'Шаболовская', 'Шипиловская', 'Южная']\n",
    "}"
   ]
  }
 ],
 "metadata": {
  "kernelspec": {
   "display_name": "Python 3 (ipykernel)",
   "language": "python",
   "name": "python3"
  },
  "language_info": {
   "codemirror_mode": {
    "name": "ipython",
    "version": 3
   },
   "file_extension": ".py",
   "mimetype": "text/x-python",
   "name": "python",
   "nbconvert_exporter": "python",
   "pygments_lexer": "ipython3",
   "version": "3.10.9"
  }
 },
 "nbformat": 4,
 "nbformat_minor": 4
}
